{
  "nbformat": 4,
  "nbformat_minor": 0,
  "metadata": {
    "colab": {
      "provenance": [],
      "authorship_tag": "ABX9TyMxpGrpfl98rWEfKABJqs3s",
      "include_colab_link": true
    },
    "kernelspec": {
      "name": "python3",
      "display_name": "Python 3"
    },
    "language_info": {
      "name": "python"
    }
  },
  "cells": [
    {
      "cell_type": "markdown",
      "metadata": {
        "id": "view-in-github",
        "colab_type": "text"
      },
      "source": [
        "<a href=\"https://colab.research.google.com/github/AbdallahAl-masri/ML-corona_project/blob/main/AI_project_corona.ipynb\" target=\"_parent\"><img src=\"https://colab.research.google.com/assets/colab-badge.svg\" alt=\"Open In Colab\"/></a>"
      ]
    },
    {
      "cell_type": "code",
      "execution_count": null,
      "metadata": {
        "id": "P-0ZR148uvII",
        "colab": {
          "base_uri": "https://localhost:8080/"
        },
        "outputId": "0606d74c-d602-4ff3-b63a-0cb837c894f9"
      },
      "outputs": [
        {
          "output_type": "stream",
          "name": "stdout",
          "text": [
            "Drive already mounted at /content/drive/; to attempt to forcibly remount, call drive.mount(\"/content/drive/\", force_remount=True).\n"
          ]
        },
        {
          "output_type": "stream",
          "name": "stderr",
          "text": [
            "<ipython-input-231-81643c7a4050>:22: SettingWithCopyWarning: \n",
            "A value is trying to be set on a copy of a slice from a DataFrame.\n",
            "Try using .loc[row_indexer,col_indexer] = value instead\n",
            "\n",
            "See the caveats in the documentation: https://pandas.pydata.org/pandas-docs/stable/user_guide/indexing.html#returning-a-view-versus-a-copy\n",
            "  x[i] = x[i].str.replace(',', '')\n",
            "<ipython-input-231-81643c7a4050>:23: SettingWithCopyWarning: \n",
            "A value is trying to be set on a copy of a slice from a DataFrame.\n",
            "Try using .loc[row_indexer,col_indexer] = value instead\n",
            "\n",
            "See the caveats in the documentation: https://pandas.pydata.org/pandas-docs/stable/user_guide/indexing.html#returning-a-view-versus-a-copy\n",
            "  x[i] = pd.to_numeric(x[i])\n"
          ]
        }
      ],
      "source": [
        "from google.colab import drive\n",
        "drive.mount('/content/drive/')\n",
        "import os\n",
        "path = '/content/drive/My Drive'\n",
        "os.chdir(path)\n",
        "\n",
        "import pandas as pd\n",
        "import numpy as np\n",
        "\n",
        "data = pd.read_csv('corona_virus.csv', encoding='unicode_escape')\n",
        "np.random.seed()\n",
        "data.columns = data.columns.str.strip()\n",
        "# Separate features and target variable\n",
        "x = data[['Population', 'Total Deaths', 'Total Recovered', 'Total Tests', 'Active Cases', 'Tests/1M pop', 'Deaths/1M pop', 'TotCases/1M pop']]\n",
        "y = data['Total Cases']\n",
        "\n",
        "\n",
        "y= y.str.replace(',', '')\n",
        "y = pd.to_numeric(y)\n",
        "\n",
        "for i in x.columns:\n",
        "  x[i] = x[i].str.replace(',', '')\n",
        "  x[i] = pd.to_numeric(x[i])\n",
        "\n",
        "MAES = []\n",
        "algo = []\n",
        "RMSE = []\n",
        "MSE = []\n",
        "#accuracy = []\n",
        "#recall = []\n",
        "#fscore = []"
      ]
    },
    {
      "cell_type": "code",
      "source": [
        "x = x.fillna(method='ffill',axis=0)\n",
        "print(x.isnull().sum())\n",
        "x.dtypes"
      ],
      "metadata": {
        "id": "LCf8zHNVWubI",
        "colab": {
          "base_uri": "https://localhost:8080/"
        },
        "outputId": "54df2782-6d94-4063-c4b2-5b615fc6f7bb"
      },
      "execution_count": null,
      "outputs": [
        {
          "output_type": "stream",
          "name": "stdout",
          "text": [
            "Population         0\n",
            "Total Deaths       0\n",
            "Total Recovered    0\n",
            "Total Tests        0\n",
            "Active Cases       0\n",
            "Tests/1M pop       0\n",
            "Deaths/1M pop      0\n",
            "TotCases/1M pop    0\n",
            "dtype: int64\n"
          ]
        },
        {
          "output_type": "execute_result",
          "data": {
            "text/plain": [
              "Population         float64\n",
              "Total Deaths       float64\n",
              "Total Recovered    float64\n",
              "Total Tests        float64\n",
              "Active Cases       float64\n",
              "Tests/1M pop       float64\n",
              "Deaths/1M pop      float64\n",
              "TotCases/1M pop    float64\n",
              "dtype: object"
            ]
          },
          "metadata": {},
          "execution_count": 232
        }
      ]
    },
    {
      "cell_type": "code",
      "source": [
        "from sklearn.ensemble import RandomForestClassifier\n",
        "from sklearn.metrics import mean_absolute_error\n",
        "from sklearn.linear_model import LogisticRegression\n",
        "from sklearn.svm import SVC\n",
        "from sklearn.pipeline import Pipeline\n",
        "from sklearn.metrics import mean_squared_error\n",
        "\n",
        "\n",
        "\n",
        "# Functions for comparing different approaches\n",
        "def score_dataset_RandomForest(X_train, X_valid, y_train, y_valid, preprocessor):\n",
        "    model = RandomForestClassifier(n_estimators=10, random_state=0)\n",
        "    model.fit(X_train, y_train)\n",
        "\n",
        "    preds = model.predict(X_valid)\n",
        "\n",
        "    algo.append('RandomForset')\n",
        "    MAES.append(mean_absolute_error(y_valid, preds))\n",
        "    MSE.append(mean_squared_error(y_valid, preds))\n",
        "    mse = mean_absolute_error(y_valid, preds)\n",
        "    RMSE.append(np.sqrt(mse))\n",
        "    #accuracy.append(accuracy_score(preds, y_valid))\n",
        "    #recall.append(recall_score(preds,y_valid))\n",
        "    #fscore.append(f1_score(preds,y_valid))\n",
        "    return mean_absolute_error(y_valid, preds)\n",
        "\n",
        "\n",
        "\n",
        "def score_dataet_Logistic(X_train, X_valid, y_train, y_valid, preprocessor):\n",
        "\n",
        "\n",
        "  model = LogisticRegression()\n",
        "  model.fit(X_train, y_train)\n",
        "\n",
        "\n",
        "\n",
        "  # preprocessing of validation data, get predictions\n",
        "  preds = model.predict(X_valid)\n",
        "  algo.append('Logistic')\n",
        "  MSE.append(mean_squared_error(y_valid, preds))\n",
        "  mse = mean_absolute_error(y_valid, preds)\n",
        "  MAES.append(mean_absolute_error(y_valid, preds))\n",
        "  RMSE.append(np.sqrt(mse))\n",
        "  #accuracy.append(accuracy_score(preds, y_valid))\n",
        "  #recall.append(recall_score(preds,y_valid))\n",
        "  #fscore.append(f1_score(preds,y_valid))\n",
        "  return mean_absolute_error(y_valid, preds)\n",
        "\n"
      ],
      "metadata": {
        "id": "3ETzY2YV-ah5"
      },
      "execution_count": null,
      "outputs": []
    },
    {
      "cell_type": "code",
      "source": [
        "from sklearn.model_selection import train_test_split\n",
        "\n",
        "def score_dataet_SVC(X_train, X_valid, y_train, y_valid, preprocessor):\n",
        "\n",
        "\n",
        "  model = SVC()\n",
        "  model.fit(X_train, y_train)\n",
        "\n",
        "\n",
        "\n",
        "  # preprocessing of validation data, get predictions\n",
        "  preds = model.predict(X_valid)\n",
        "  algo.append('SVC')\n",
        "  MSE.append(mean_squared_error(y_valid, preds))\n",
        "  mse = mean_absolute_error(y_valid, preds)\n",
        "  MAES.append(mean_absolute_error(y_valid, preds))\n",
        "  RMSE.append(np.sqrt(mse))\n",
        "  #accuracy.append(accuracy_score(preds, y_valid))\n",
        "  #recall.append(recall_score(preds,y_valid))\n",
        "  #fscore.append(f1_score(preds,y_valid))\n",
        "  return mean_absolute_error(y_valid, preds)"
      ],
      "metadata": {
        "id": "v4PKkjcm-e4i"
      },
      "execution_count": null,
      "outputs": []
    },
    {
      "cell_type": "code",
      "source": [
        "# Split the data into training and testing sets\n",
        "X_train_full, X_valid_full, y_train, y_valid = train_test_split(x, y, train_size=0.8, test_size=0.2,random_state=0)\n",
        "\n",
        "\n",
        "# \"Cardinality\" means the number of unique values in a column\n",
        "# Select categorical columns with relatively low cardinality (convenient but arbitrary)\n",
        "low_cardinality_cols = [cname for cname in X_train_full.columns if X_train_full[cname].nunique() < 10 and X_train_full[cname].dtype == \"object\"]\n",
        "\n",
        "\n",
        "# Select numerical columns\n",
        "numerical_cols = [cname for cname in X_train_full.columns if X_train_full[cname].dtype in ['int64', 'float64']]\n",
        "\n",
        "# keep selected columns only\n",
        "my_cols = low_cardinality_cols + numerical_cols\n",
        "X_train = X_train_full[my_cols].copy()\n",
        "X_valid = X_valid_full[my_cols].copy()\n"
      ],
      "metadata": {
        "id": "l3bKbi8h-jCY"
      },
      "execution_count": null,
      "outputs": []
    },
    {
      "cell_type": "code",
      "source": [
        "from sklearn import preprocessing\n",
        "from pandas.core.arrays import categorical\n",
        "from sklearn.compose import ColumnTransformer\n",
        "from sklearn.impute import SimpleImputer\n",
        "from sklearn.preprocessing import OneHotEncoder\n",
        "\n",
        "# preprocessing for numerical data\n",
        "numerical_transform = SimpleImputer()\n",
        "\n",
        "# preprocessing for categorical data\n",
        "categorical_transform = Pipeline(steps=[\n",
        "    ('imputer', SimpleImputer()),\n",
        "    ('onehot', OneHotEncoder(handle_unknown='ignore'))\n",
        "])\n",
        "\n",
        "# Bundle preprocessing for numerical and categorical data\n",
        "preprocessor = ColumnTransformer(\n",
        "    transformers=[\n",
        "        ('num', numerical_transform, numerical_cols),\n",
        "        ('cat', categorical_transform, low_cardinality_cols)\n",
        "    ])\n"
      ],
      "metadata": {
        "id": "ZiYuI8nL-pbg"
      },
      "execution_count": null,
      "outputs": []
    },
    {
      "cell_type": "code",
      "source": [
        "print('MAE from pipeline - RandomForset')\n",
        "print(score_dataset_RandomForest(X_train, X_valid, y_train, y_valid, preprocessor))\n",
        "print('\\n\\nMAE from pipeline - Logistic')\n",
        "print(score_dataet_Logistic(X_train, X_valid, y_train, y_valid, preprocessor))"
      ],
      "metadata": {
        "colab": {
          "base_uri": "https://localhost:8080/"
        },
        "id": "e7fsIZ99-tjh",
        "outputId": "8a315ab1-2d45-48c1-cdcb-5559c2add13e"
      },
      "execution_count": null,
      "outputs": [
        {
          "output_type": "stream",
          "name": "stdout",
          "text": [
            "MAE from pipeline - RandomForset\n",
            "16025175.255319148\n",
            "\n",
            "\n",
            "MAE from pipeline - Logistic\n",
            "18211354.425531916\n"
          ]
        },
        {
          "output_type": "stream",
          "name": "stderr",
          "text": [
            "/usr/local/lib/python3.10/dist-packages/sklearn/linear_model/_logistic.py:458: ConvergenceWarning: lbfgs failed to converge (status=1):\n",
            "STOP: TOTAL NO. of ITERATIONS REACHED LIMIT.\n",
            "\n",
            "Increase the number of iterations (max_iter) or scale the data as shown in:\n",
            "    https://scikit-learn.org/stable/modules/preprocessing.html\n",
            "Please also refer to the documentation for alternative solver options:\n",
            "    https://scikit-learn.org/stable/modules/linear_model.html#logistic-regression\n",
            "  n_iter_i = _check_optimize_result(\n"
          ]
        }
      ]
    },
    {
      "cell_type": "code",
      "source": [
        "from xgboost import XGBRegressor\n",
        "\n",
        "\n",
        "\n",
        "my_model = XGBRegressor(n_estimators=1000, learning_rate=0.05, n_jobs=4)\n",
        "my_model.fit(X_train, y_train,\n",
        "             early_stopping_rounds=5,\n",
        "             eval_set=[(X_valid, y_valid)],\n",
        "             verbose=False)\n",
        "\n",
        "preds = my_model.predict(X_valid)\n",
        "algo.append('XGBRegressorr')\n",
        "MAES.append(mean_absolute_error(preds, y_valid))\n",
        "mse = mean_absolute_error(y_valid, preds)\n",
        "RMSE.append(np.sqrt(mse))\n",
        "MSE.append(mean_squared_error(y_valid, preds))\n",
        "#accuracy.append(accuracy_score(preds, y_valid))\n",
        "#recall.append(recall_score(preds,y_valid))\n",
        "#fscore.append(f1_score(preds,y_valid))\n",
        "print(\"Mean Absolute Error: \" + str(mean_absolute_error(preds, y_valid)))\n",
        "\n",
        "\n"
      ],
      "metadata": {
        "id": "EFrWE4Xm-0b4",
        "colab": {
          "base_uri": "https://localhost:8080/"
        },
        "outputId": "3e3d8e00-32cf-4914-b467-f0db3b51b946"
      },
      "execution_count": null,
      "outputs": [
        {
          "output_type": "stream",
          "name": "stderr",
          "text": [
            "/usr/local/lib/python3.10/dist-packages/xgboost/sklearn.py:835: UserWarning: `early_stopping_rounds` in `fit` method is deprecated for better compatibility with scikit-learn, use `early_stopping_rounds` in constructor or`set_params` instead.\n",
            "  warnings.warn(\n"
          ]
        },
        {
          "output_type": "stream",
          "name": "stdout",
          "text": [
            "Mean Absolute Error: 12863402.653678732\n"
          ]
        }
      ]
    },
    {
      "cell_type": "code",
      "source": [
        "print('MAE from SVC')\n",
        "print(score_dataet_SVC(X_train_full, X_valid_full, y_train, y_valid, preprocessor))"
      ],
      "metadata": {
        "colab": {
          "base_uri": "https://localhost:8080/"
        },
        "id": "7SjEFO93-1H4",
        "outputId": "9fea1df4-0983-48fd-8f81-32c44078a007"
      },
      "execution_count": null,
      "outputs": [
        {
          "output_type": "stream",
          "name": "stdout",
          "text": [
            "MAE from SVC\n",
            "15156560.425531914\n"
          ]
        }
      ]
    },
    {
      "cell_type": "code",
      "source": [
        "import matplotlib.pyplot as plt\n",
        "finalResult=pd.DataFrame({'Algorithm' : algo, 'MAE' : MAES, 'RMSE' : RMSE, 'MSE' : MSE})\n",
        "fig,ax=plt.subplots(figsize=(20,5))\n",
        "plt.bar(finalResult.Algorithm,MAES,label='mean_absolute_error')\n",
        "plt.legend()\n",
        "plt.show()\n"
      ],
      "metadata": {
        "colab": {
          "base_uri": "https://localhost:8080/",
          "height": 406
        },
        "id": "psrWqeWW-3Y5",
        "outputId": "d6e95430-5df0-44cb-e010-e677955d5978"
      },
      "execution_count": null,
      "outputs": [
        {
          "output_type": "display_data",
          "data": {
            "text/plain": [
              "<Figure size 2000x500 with 1 Axes>"
            ],
            "image/png": "[encoded data removed]"
          },
          "metadata": {}
        }
      ]
    },
    {
      "cell_type": "code",
      "source": [
        "fig,ax=plt.subplots(figsize=(20,5))\n",
        "plt.bar(finalResult.Algorithm,RMSE,label='root_squared_mean_error')\n",
        "plt.legend()\n",
        "plt.show()"
      ],
      "metadata": {
        "colab": {
          "base_uri": "https://localhost:8080/",
          "height": 392
        },
        "id": "XGYC7zZR0RCV",
        "outputId": "7ca0ccb2-7d00-4dde-ab34-acfe5aa353c2"
      },
      "execution_count": null,
      "outputs": [
        {
          "output_type": "display_data",
          "data": {
            "text/plain": [
              "<Figure size 2000x500 with 1 Axes>"
            ],
            "image/png": "[encoded data removed]"
          },
          "metadata": {}
        }
      ]
    },
    {
      "cell_type": "code",
      "source": [
        "fig,ax=plt.subplots(figsize=(20,5))\n",
        "plt.bar(finalResult.Algorithm,MSE,label='mean_squared_error')\n",
        "plt.legend()\n",
        "plt.show()"
      ],
      "metadata": {
        "colab": {
          "base_uri": "https://localhost:8080/",
          "height": 408
        },
        "id": "lR0Dz36n0RJ8",
        "outputId": "59d457b8-3ed5-4060-c90e-ed12a21f2a83"
      },
      "execution_count": null,
      "outputs": [
        {
          "output_type": "display_data",
          "data": {
            "text/plain": [
              "<Figure size 2000x500 with 1 Axes>"
            ],
            "image/png": "[encoded data removed]"
          },
          "metadata": {}
        }
      ]
    },
    {
      "cell_type": "code",
      "source": [
        "best = {algo[MSE.index(min(MSE))] : min(MSE), algo[MAES.index(min(MAES))] : min(MAES), algo[RMSE.index(min(RMSE))] : min(MAES)}\n",
        "\n",
        "print(algo[MSE.index(min(MSE))], min(MSE), MSE.index(min(MSE)))\n",
        "print(algo[MAES.index(min(MAES))],min(MAES), MAES.index(min(MAES)))\n",
        "print(algo[RMSE.index(min(RMSE))],min(MAES), RMSE.index(min(RMSE)))\n",
        "\n",
        "print('\\nthe best model is:', min(best, key=best.get))"
      ],
      "metadata": {
        "colab": {
          "base_uri": "https://localhost:8080/"
        },
        "id": "yQJnrpjy8puc",
        "outputId": "36e2229b-3303-4d9d-8614-4199056eba96"
      },
      "execution_count": null,
      "outputs": [
        {
          "output_type": "stream",
          "name": "stdout",
          "text": [
            "XGBRegressorr 7201219388544422.0 2\n",
            "XGBRegressorr 12863402.653678732 2\n",
            "XGBRegressorr 12863402.653678732 2\n",
            "\n",
            "the best model is: XGBRegressorr\n"
          ]
        }
      ]
    }
  ]
}